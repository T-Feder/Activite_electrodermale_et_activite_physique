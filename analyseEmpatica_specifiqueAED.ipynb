{
 "cells": [
  {
   "cell_type": "code",
   "execution_count": 1,
   "metadata": {},
   "outputs": [],
   "source": [
    "#import neurokit2 as nk\n",
    "## enlever le commentaire pour neurokit2 pour l'utiliser\n",
    "#import neurokit2 as nk\n",
    "#import heartpy as hp\n",
    "import pandas as pd\n",
    "import numpy as np\n",
    "import os\n",
    "import matplotlib.pyplot as plt\n",
    "from datetime import datetime\n",
    "import scipy as sci"
   ]
  },
  {
   "cell_type": "code",
   "execution_count": 2,
   "metadata": {},
   "outputs": [],
   "source": [
    "## fonction pour vérifier si un fichier existe et qu'il n'est pas vide à partir du chemin du fichier\n",
    "## retourne True si le fichier existe et n'est pas vide sinon retourne False\n",
    "def is_non_zero_file(fpath):  \n",
    "    return os.path.isfile(fpath) and os.path.getsize(fpath) > 0"
   ]
  },
  {
   "cell_type": "code",
   "execution_count": 1385,
   "metadata": {},
   "outputs": [],
   "source": [
    "path_participant= '/home/f/Documents/TER/Participants/Nom Prenom/S8/Après/' # chemin du dossier pour les fichiers empatica"
   ]
  },
  {
   "cell_type": "markdown",
   "metadata": {},
   "source": [
    "## Analyse AED"
   ]
  },
  {
   "cell_type": "code",
   "execution_count": 1386,
   "metadata": {},
   "outputs": [],
   "source": [
    "df_aed= pd.read_csv(path_participant + 'EDA.csv', sep=';', header=None)"
   ]
  },
  {
   "cell_type": "code",
   "execution_count": null,
   "metadata": {},
   "outputs": [],
   "source": [
    "df_tag= pd.read_csv(path_participant + 'tags.csv', header=None)"
   ]
  },
  {
   "cell_type": "code",
   "execution_count": 1363,
   "metadata": {},
   "outputs": [],
   "source": [
    "# on stocke le temps de départ dans une variable\n",
    "# on le convertit en même temps en format datetime pour le calcul des différences de temps après\n",
    "start_date= pd.to_datetime(df_aed.loc[0], unit= 's')[0]\n",
    "freq= df_aed.loc[1, 0] # on stocke la fréquence d'échantillonnage du fichier contenue à la deuxième ligne\n",
    "df_aed= df_aed.loc[2:] # on supprime ces 2 première lignes du tableau pour ne garder que le signal brut"
   ]
  },
  {
   "cell_type": "code",
   "execution_count": 1347,
   "metadata": {},
   "outputs": [
    {
     "data": {
      "text/html": [
       "<div>\n",
       "<style scoped>\n",
       "    .dataframe tbody tr th:only-of-type {\n",
       "        vertical-align: middle;\n",
       "    }\n",
       "\n",
       "    .dataframe tbody tr th {\n",
       "        vertical-align: top;\n",
       "    }\n",
       "\n",
       "    .dataframe thead th {\n",
       "        text-align: right;\n",
       "    }\n",
       "</style>\n",
       "<table border=\"1\" class=\"dataframe\">\n",
       "  <thead>\n",
       "    <tr style=\"text-align: right;\">\n",
       "      <th></th>\n",
       "      <th>0</th>\n",
       "    </tr>\n",
       "  </thead>\n",
       "  <tbody>\n",
       "    <tr>\n",
       "      <th>0</th>\n",
       "      <td>2021-01-15 23:08:11.840</td>\n",
       "    </tr>\n",
       "    <tr>\n",
       "      <th>1</th>\n",
       "      <td>2021-01-15 23:18:48.860</td>\n",
       "    </tr>\n",
       "  </tbody>\n",
       "</table>\n",
       "</div>"
      ],
      "text/plain": [
       "                        0\n",
       "0 2021-01-15 23:08:11.840\n",
       "1 2021-01-15 23:18:48.860"
      ]
     },
     "execution_count": 1347,
     "metadata": {},
     "output_type": "execute_result"
    }
   ],
   "source": [
    "df_tag"
   ]
  },
  {
   "cell_type": "markdown",
   "metadata": {},
   "source": [
    "### Si  deux tags"
   ]
  },
  {
   "cell_type": "code",
   "execution_count": 1348,
   "metadata": {},
   "outputs": [
    {
     "data": {
      "text/html": [
       "<div>\n",
       "<style scoped>\n",
       "    .dataframe tbody tr th:only-of-type {\n",
       "        vertical-align: middle;\n",
       "    }\n",
       "\n",
       "    .dataframe tbody tr th {\n",
       "        vertical-align: top;\n",
       "    }\n",
       "\n",
       "    .dataframe thead th {\n",
       "        text-align: right;\n",
       "    }\n",
       "</style>\n",
       "<table border=\"1\" class=\"dataframe\">\n",
       "  <thead>\n",
       "    <tr style=\"text-align: right;\">\n",
       "      <th></th>\n",
       "      <th>0</th>\n",
       "    </tr>\n",
       "  </thead>\n",
       "  <tbody>\n",
       "    <tr>\n",
       "      <th>0</th>\n",
       "      <td>2021-01-15 23:08:11.840</td>\n",
       "    </tr>\n",
       "    <tr>\n",
       "      <th>1</th>\n",
       "      <td>2021-01-15 23:18:48.860</td>\n",
       "    </tr>\n",
       "  </tbody>\n",
       "</table>\n",
       "</div>"
      ],
      "text/plain": [
       "                        0\n",
       "0 2021-01-15 23:08:11.840\n",
       "1 2021-01-15 23:18:48.860"
      ]
     },
     "execution_count": 1348,
     "metadata": {},
     "output_type": "execute_result"
    }
   ],
   "source": [
    "df_tag[0]=pd.to_datetime(df_tag[0], unit= 's') # on convertir le fichier de tag en format datetime également\n",
    "df_tag"
   ]
  },
  {
   "cell_type": "code",
   "execution_count": 1349,
   "metadata": {},
   "outputs": [],
   "source": [
    "# on calcule le temps écoulé en secondes entre le démarrage de la montre et le premier tag\n",
    "timer_Tostart= (df_tag.loc[0,0] - start_date).total_seconds()\n",
    "# on multiplie ce temps par la fréquence pour avoir l'index de la mesure où l'enregistrement qui nous intéresse COMMENCE\n",
    "index_start= round(timer_Tostart) * freq\n",
    "# on calcule le temps écoulé en secondes entre le démarrage de la montre et le dernier tag\n",
    "timer_Tostop= (df_tag.iloc[-1, 0] - start_date).total_seconds()\n",
    "# on multiplie ce temps par la fréquence pour avoir l'index de la mesure où l'enregistrement qui nous intéresse TERMINE\n",
    "index_stop= round(timer_Tostop) * freq"
   ]
  },
  {
   "cell_type": "markdown",
   "metadata": {},
   "source": [
    "### Pour les Après"
   ]
  },
  {
   "cell_type": "code",
   "execution_count": 1388,
   "metadata": {},
   "outputs": [],
   "source": [
    "# on calcule le temps écoulé en secondes entre le démarrage de la montre et le premier tag\n",
    "\n",
    "# on multiplie ce temps par la fréquence pour avoir l'index de la mesure où l'enregistrement qui nous intéresse COMMENCE\n",
    "index_start= (len(df_aed) - 1) - (600 * freq)\n",
    "# on calcule le temps écoulé en secondes entre le démarrage de la montre et le dernier tag\n",
    "\n",
    "# on multiplie ce temps par la fréquence pour avoir l'index de la mesure où l'enregistrement qui nous intéresse TERMINE\n",
    "index_stop= (len(df_aed) - 1) - (20 * freq)"
   ]
  },
  {
   "cell_type": "markdown",
   "metadata": {},
   "source": [
    "### Pour les Avant"
   ]
  },
  {
   "cell_type": "code",
   "execution_count": 1380,
   "metadata": {},
   "outputs": [],
   "source": [
    "# on calcule le temps écoulé en secondes entre le démarrage de la montre et le premier tag\n",
    "\n",
    "# on multiplie ce temps par la fréquence pour avoir l'index de la mesure où l'enregistrement qui nous intéresse COMMENCE\n",
    "index_start= (len(df_aed) - 1) - (300 * freq)\n",
    "# on calcule le temps écoulé en secondes entre le démarrage de la montre et le dernier tag\n",
    "\n",
    "# on multiplie ce temps par la fréquence pour avoir l'index de la mesure où l'enregistrement qui nous intéresse TERMINE\n",
    "index_stop= (len(df_aed) - 1) - (20 * freq)"
   ]
  },
  {
   "cell_type": "markdown",
   "metadata": {},
   "source": [
    "### Ensuite"
   ]
  },
  {
   "cell_type": "code",
   "execution_count": 1389,
   "metadata": {},
   "outputs": [],
   "source": [
    "df_aed= df_aed.reset_index(drop= True)"
   ]
  },
  {
   "cell_type": "code",
   "execution_count": 1390,
   "metadata": {},
   "outputs": [
    {
     "data": {
      "text/html": [
       "<div>\n",
       "<style scoped>\n",
       "    .dataframe tbody tr th:only-of-type {\n",
       "        vertical-align: middle;\n",
       "    }\n",
       "\n",
       "    .dataframe tbody tr th {\n",
       "        vertical-align: top;\n",
       "    }\n",
       "\n",
       "    .dataframe thead th {\n",
       "        text-align: right;\n",
       "    }\n",
       "</style>\n",
       "<table border=\"1\" class=\"dataframe\">\n",
       "  <thead>\n",
       "    <tr style=\"text-align: right;\">\n",
       "      <th></th>\n",
       "      <th>0</th>\n",
       "    </tr>\n",
       "  </thead>\n",
       "  <tbody>\n",
       "    <tr>\n",
       "      <th>103</th>\n",
       "      <td>18.258507</td>\n",
       "    </tr>\n",
       "    <tr>\n",
       "      <th>104</th>\n",
       "      <td>18.317430</td>\n",
       "    </tr>\n",
       "    <tr>\n",
       "      <th>105</th>\n",
       "      <td>18.345612</td>\n",
       "    </tr>\n",
       "    <tr>\n",
       "      <th>106</th>\n",
       "      <td>18.394287</td>\n",
       "    </tr>\n",
       "    <tr>\n",
       "      <th>107</th>\n",
       "      <td>18.418625</td>\n",
       "    </tr>\n",
       "    <tr>\n",
       "      <th>...</th>\n",
       "      <td>...</td>\n",
       "    </tr>\n",
       "    <tr>\n",
       "      <th>2419</th>\n",
       "      <td>22.836672</td>\n",
       "    </tr>\n",
       "    <tr>\n",
       "      <th>2420</th>\n",
       "      <td>22.844357</td>\n",
       "    </tr>\n",
       "    <tr>\n",
       "      <th>2421</th>\n",
       "      <td>22.850761</td>\n",
       "    </tr>\n",
       "    <tr>\n",
       "      <th>2422</th>\n",
       "      <td>22.861010</td>\n",
       "    </tr>\n",
       "    <tr>\n",
       "      <th>2423</th>\n",
       "      <td>22.827705</td>\n",
       "    </tr>\n",
       "  </tbody>\n",
       "</table>\n",
       "<p>2321 rows × 1 columns</p>\n",
       "</div>"
      ],
      "text/plain": [
       "              0\n",
       "103   18.258507\n",
       "104   18.317430\n",
       "105   18.345612\n",
       "106   18.394287\n",
       "107   18.418625\n",
       "...         ...\n",
       "2419  22.836672\n",
       "2420  22.844357\n",
       "2421  22.850761\n",
       "2422  22.861010\n",
       "2423  22.827705\n",
       "\n",
       "[2321 rows x 1 columns]"
      ]
     },
     "execution_count": 1390,
     "metadata": {},
     "output_type": "execute_result"
    }
   ],
   "source": [
    "df_aed= df_aed.loc[index_start:index_stop] # on récupère donc uniquement le signal qui nous intéresse entre les 2 tags\n",
    "df_aed"
   ]
  },
  {
   "cell_type": "markdown",
   "metadata": {},
   "source": [
    "Pour récupérer les données comprises entre les tags, copier coller le code utilisé plus haut et l'adapter avec le nom des variables"
   ]
  },
  {
   "cell_type": "code",
   "execution_count": 1391,
   "metadata": {},
   "outputs": [
    {
     "data": {
      "image/png": "[encoded data removed]",
      "text/plain": [
       "<Figure size 864x360 with 1 Axes>"
      ]
     },
     "metadata": {
      "needs_background": "light"
     },
     "output_type": "display_data"
    }
   ],
   "source": [
    "fig, ax = plt.subplots(figsize=(12, 5))\n",
    "ax.plot(df_aed[0])\n",
    "ax.set_ylabel('Activité électrodermale')\n",
    "ax.set_xlabel('Fréquence (64 Hz)')\n",
    "fig.tight_layout()"
   ]
  },
  {
   "cell_type": "code",
   "execution_count": 1392,
   "metadata": {},
   "outputs": [
    {
     "data": {
      "text/plain": [
       "0    22.661315\n",
       "dtype: float64"
      ]
     },
     "execution_count": 1392,
     "metadata": {},
     "output_type": "execute_result"
    }
   ],
   "source": [
    "np.mean(df_aed)"
   ]
  }
 ],
 "metadata": {
  "kernelspec": {
   "display_name": "Python 3",
   "language": "python",
   "name": "python3"
  },
  "language_info": {
   "codemirror_mode": {
    "name": "ipython",
    "version": 3
   },
   "file_extension": ".py",
   "mimetype": "text/x-python",
   "name": "python",
   "nbconvert_exporter": "python",
   "pygments_lexer": "ipython3",
   "version": "3.7.1"
  }
 },
 "nbformat": 4,
 "nbformat_minor": 2
}
